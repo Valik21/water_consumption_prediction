{
  "nbformat": 4,
  "nbformat_minor": 0,
  "metadata": {
    "colab": {
      "provenance": []
    },
    "kernelspec": {
      "name": "python3",
      "display_name": "Python 3"
    },
    "language_info": {
      "name": "python"
    }
  },
  "cells": [
    {
      "cell_type": "code",
      "execution_count": 1,
      "metadata": {
        "colab": {
          "base_uri": "https://localhost:8080/",
          "height": 73
        },
        "id": "m2yMCgLK7Xzf",
        "outputId": "5cbe0b9e-0e4f-4196-9d9d-56909f3d1d46"
      },
      "outputs": [
        {
          "output_type": "display_data",
          "data": {
            "text/plain": [
              "<IPython.core.display.HTML object>"
            ],
            "text/html": [
              "\n",
              "     <input type=\"file\" id=\"files-640635b2-81d3-4a5c-bd38-01542ec9e23e\" name=\"files[]\" multiple disabled\n",
              "        style=\"border:none\" />\n",
              "     <output id=\"result-640635b2-81d3-4a5c-bd38-01542ec9e23e\">\n",
              "      Upload widget is only available when the cell has been executed in the\n",
              "      current browser session. Please rerun this cell to enable.\n",
              "      </output>\n",
              "      <script>// Copyright 2017 Google LLC\n",
              "//\n",
              "// Licensed under the Apache License, Version 2.0 (the \"License\");\n",
              "// you may not use this file except in compliance with the License.\n",
              "// You may obtain a copy of the License at\n",
              "//\n",
              "//      http://www.apache.org/licenses/LICENSE-2.0\n",
              "//\n",
              "// Unless required by applicable law or agreed to in writing, software\n",
              "// distributed under the License is distributed on an \"AS IS\" BASIS,\n",
              "// WITHOUT WARRANTIES OR CONDITIONS OF ANY KIND, either express or implied.\n",
              "// See the License for the specific language governing permissions and\n",
              "// limitations under the License.\n",
              "\n",
              "/**\n",
              " * @fileoverview Helpers for google.colab Python module.\n",
              " */\n",
              "(function(scope) {\n",
              "function span(text, styleAttributes = {}) {\n",
              "  const element = document.createElement('span');\n",
              "  element.textContent = text;\n",
              "  for (const key of Object.keys(styleAttributes)) {\n",
              "    element.style[key] = styleAttributes[key];\n",
              "  }\n",
              "  return element;\n",
              "}\n",
              "\n",
              "// Max number of bytes which will be uploaded at a time.\n",
              "const MAX_PAYLOAD_SIZE = 100 * 1024;\n",
              "\n",
              "function _uploadFiles(inputId, outputId) {\n",
              "  const steps = uploadFilesStep(inputId, outputId);\n",
              "  const outputElement = document.getElementById(outputId);\n",
              "  // Cache steps on the outputElement to make it available for the next call\n",
              "  // to uploadFilesContinue from Python.\n",
              "  outputElement.steps = steps;\n",
              "\n",
              "  return _uploadFilesContinue(outputId);\n",
              "}\n",
              "\n",
              "// This is roughly an async generator (not supported in the browser yet),\n",
              "// where there are multiple asynchronous steps and the Python side is going\n",
              "// to poll for completion of each step.\n",
              "// This uses a Promise to block the python side on completion of each step,\n",
              "// then passes the result of the previous step as the input to the next step.\n",
              "function _uploadFilesContinue(outputId) {\n",
              "  const outputElement = document.getElementById(outputId);\n",
              "  const steps = outputElement.steps;\n",
              "\n",
              "  const next = steps.next(outputElement.lastPromiseValue);\n",
              "  return Promise.resolve(next.value.promise).then((value) => {\n",
              "    // Cache the last promise value to make it available to the next\n",
              "    // step of the generator.\n",
              "    outputElement.lastPromiseValue = value;\n",
              "    return next.value.response;\n",
              "  });\n",
              "}\n",
              "\n",
              "/**\n",
              " * Generator function which is called between each async step of the upload\n",
              " * process.\n",
              " * @param {string} inputId Element ID of the input file picker element.\n",
              " * @param {string} outputId Element ID of the output display.\n",
              " * @return {!Iterable<!Object>} Iterable of next steps.\n",
              " */\n",
              "function* uploadFilesStep(inputId, outputId) {\n",
              "  const inputElement = document.getElementById(inputId);\n",
              "  inputElement.disabled = false;\n",
              "\n",
              "  const outputElement = document.getElementById(outputId);\n",
              "  outputElement.innerHTML = '';\n",
              "\n",
              "  const pickedPromise = new Promise((resolve) => {\n",
              "    inputElement.addEventListener('change', (e) => {\n",
              "      resolve(e.target.files);\n",
              "    });\n",
              "  });\n",
              "\n",
              "  const cancel = document.createElement('button');\n",
              "  inputElement.parentElement.appendChild(cancel);\n",
              "  cancel.textContent = 'Cancel upload';\n",
              "  const cancelPromise = new Promise((resolve) => {\n",
              "    cancel.onclick = () => {\n",
              "      resolve(null);\n",
              "    };\n",
              "  });\n",
              "\n",
              "  // Wait for the user to pick the files.\n",
              "  const files = yield {\n",
              "    promise: Promise.race([pickedPromise, cancelPromise]),\n",
              "    response: {\n",
              "      action: 'starting',\n",
              "    }\n",
              "  };\n",
              "\n",
              "  cancel.remove();\n",
              "\n",
              "  // Disable the input element since further picks are not allowed.\n",
              "  inputElement.disabled = true;\n",
              "\n",
              "  if (!files) {\n",
              "    return {\n",
              "      response: {\n",
              "        action: 'complete',\n",
              "      }\n",
              "    };\n",
              "  }\n",
              "\n",
              "  for (const file of files) {\n",
              "    const li = document.createElement('li');\n",
              "    li.append(span(file.name, {fontWeight: 'bold'}));\n",
              "    li.append(span(\n",
              "        `(${file.type || 'n/a'}) - ${file.size} bytes, ` +\n",
              "        `last modified: ${\n",
              "            file.lastModifiedDate ? file.lastModifiedDate.toLocaleDateString() :\n",
              "                                    'n/a'} - `));\n",
              "    const percent = span('0% done');\n",
              "    li.appendChild(percent);\n",
              "\n",
              "    outputElement.appendChild(li);\n",
              "\n",
              "    const fileDataPromise = new Promise((resolve) => {\n",
              "      const reader = new FileReader();\n",
              "      reader.onload = (e) => {\n",
              "        resolve(e.target.result);\n",
              "      };\n",
              "      reader.readAsArrayBuffer(file);\n",
              "    });\n",
              "    // Wait for the data to be ready.\n",
              "    let fileData = yield {\n",
              "      promise: fileDataPromise,\n",
              "      response: {\n",
              "        action: 'continue',\n",
              "      }\n",
              "    };\n",
              "\n",
              "    // Use a chunked sending to avoid message size limits. See b/62115660.\n",
              "    let position = 0;\n",
              "    do {\n",
              "      const length = Math.min(fileData.byteLength - position, MAX_PAYLOAD_SIZE);\n",
              "      const chunk = new Uint8Array(fileData, position, length);\n",
              "      position += length;\n",
              "\n",
              "      const base64 = btoa(String.fromCharCode.apply(null, chunk));\n",
              "      yield {\n",
              "        response: {\n",
              "          action: 'append',\n",
              "          file: file.name,\n",
              "          data: base64,\n",
              "        },\n",
              "      };\n",
              "\n",
              "      let percentDone = fileData.byteLength === 0 ?\n",
              "          100 :\n",
              "          Math.round((position / fileData.byteLength) * 100);\n",
              "      percent.textContent = `${percentDone}% done`;\n",
              "\n",
              "    } while (position < fileData.byteLength);\n",
              "  }\n",
              "\n",
              "  // All done.\n",
              "  yield {\n",
              "    response: {\n",
              "      action: 'complete',\n",
              "    }\n",
              "  };\n",
              "}\n",
              "\n",
              "scope.google = scope.google || {};\n",
              "scope.google.colab = scope.google.colab || {};\n",
              "scope.google.colab._files = {\n",
              "  _uploadFiles,\n",
              "  _uploadFilesContinue,\n",
              "};\n",
              "})(self);\n",
              "</script> "
            ]
          },
          "metadata": {}
        },
        {
          "output_type": "stream",
          "name": "stdout",
          "text": [
            "Saving train.csv to train.csv\n"
          ]
        }
      ],
      "source": [
        "import numpy as np\n",
        "import pandas as pd\n",
        "from google.colab import files\n",
        "uploaded = files.upload()"
      ]
    },
    {
      "cell_type": "code",
      "source": [
        "#Načtení datasetu\n",
        "dataset = pd.read_csv('train.csv')\n",
        "\n",
        "#Zobrazení prvních několik řádků\n",
        "print(dataset.head())"
      ],
      "metadata": {
        "colab": {
          "base_uri": "https://localhost:8080/"
        },
        "id": "N9RrrLaX7xrp",
        "outputId": "1f16755c-568e-44a4-f5b5-56737b0ee774"
      },
      "execution_count": 66,
      "outputs": [
        {
          "output_type": "stream",
          "name": "stdout",
          "text": [
            "   Year  Month Consumer_type  Consumption     Consumer_number  \\\n",
            "0  2013      1      domestic            0  MOGV36480546611521   \n",
            "1  2013      1    industrial            5  BECS02817768252637   \n",
            "2  2013      1      domestic            6  VRFW65577141436242   \n",
            "3  2013      1      domestic            1  QLLI18662653137621   \n",
            "4  2013      1      domestic           13  HYUO61823402850645   \n",
            "\n",
            "     Installation_zone  \n",
            "0  Installation_zone 1  \n",
            "1  Installation_zone 2  \n",
            "2  Installation_zone 2  \n",
            "3  Installation_zone 2  \n",
            "4  Installation_zone 2  \n"
          ]
        }
      ]
    },
    {
      "cell_type": "code",
      "source": [
        "#Základní popis dat\n",
        "print(dataset.describe())"
      ],
      "metadata": {
        "colab": {
          "base_uri": "https://localhost:8080/"
        },
        "id": "rDIgRCcK8e_F",
        "outputId": "0412fd84-9fae-4ec0-f2b1-25ccdeb5319c"
      },
      "execution_count": 67,
      "outputs": [
        {
          "output_type": "stream",
          "name": "stdout",
          "text": [
            "                Year         Month    Consumption\n",
            "count  329975.000000  329975.00000  329975.000000\n",
            "mean     2016.774701       6.49955       6.724294\n",
            "std         2.376551       3.51024      18.589004\n",
            "min      2013.000000       1.00000       0.000000\n",
            "25%      2014.000000       3.00000       1.000000\n",
            "50%      2017.000000       6.00000       5.000000\n",
            "75%      2019.000000      10.00000       9.000000\n",
            "max      2020.000000      12.00000    4978.000000\n"
          ]
        }
      ]
    },
    {
      "cell_type": "code",
      "source": [
        "#Kontrola chybějících hodnot\n",
        "print(dataset.isnull().sum())"
      ],
      "metadata": {
        "colab": {
          "base_uri": "https://localhost:8080/"
        },
        "id": "k5lq2f1_86LY",
        "outputId": "d892f794-400b-42b5-cf93-bca8e18cbe58"
      },
      "execution_count": 68,
      "outputs": [
        {
          "output_type": "stream",
          "name": "stdout",
          "text": [
            "Year                 0\n",
            "Month                0\n",
            "Consumer_type        0\n",
            "Consumption          0\n",
            "Consumer_number      0\n",
            "Installation_zone    0\n",
            "dtype: int64\n"
          ]
        }
      ]
    },
    {
      "cell_type": "code",
      "source": [
        "# Seznam unikátních kategorií v sloupci Consumer_type\n",
        "consumer_type_categories = dataset['Consumer_type'].unique()\n",
        "print(f\"Kategorie v 'Consumer_type': {consumer_type_categories}\")"
      ],
      "metadata": {
        "colab": {
          "base_uri": "https://localhost:8080/"
        },
        "id": "HPS4MXLCAKyV",
        "outputId": "0bd31690-5074-446f-812e-3ab7de951f70"
      },
      "execution_count": 69,
      "outputs": [
        {
          "output_type": "stream",
          "name": "stdout",
          "text": [
            "Kategorie v 'Consumer_type': ['domestic' 'industrial' 'rural commercial' 'construction'\n",
            " 'low income families' 'rural domestic' 'rural expansion']\n"
          ]
        }
      ]
    },
    {
      "cell_type": "code",
      "source": [
        "# Seznam unikátních kategorií v sloupci Installation_zone\n",
        "installation_zone_categories = dataset['Installation_zone'].unique()\n",
        "print(f\"Kategorie v 'Installation_zone': {installation_zone_categories}\")"
      ],
      "metadata": {
        "colab": {
          "base_uri": "https://localhost:8080/"
        },
        "id": "87e7ubqTAPpM",
        "outputId": "b481094b-f0b6-478a-d1c1-a6dd2cc569ef"
      },
      "execution_count": 70,
      "outputs": [
        {
          "output_type": "stream",
          "name": "stdout",
          "text": [
            "Kategorie v 'Installation_zone': ['Installation_zone 1' 'Installation_zone 2' 'Installation_zone 3'\n",
            " 'Installation_zone 4' 'Installation_zone 5' 'Installation_zone 6'\n",
            " 'Installation_zone 7' 'Installation_zone 8' 'Installation_zone 9'\n",
            " 'Installation_zone 10' 'Installation_zone 11' 'Installation_zone 12'\n",
            " 'Installation_zone 13' 'Installation_zone 14' 'Installation_zone 15'\n",
            " 'Installation_zone 16' 'Installation_zone 17' 'Installation_zone 18'\n",
            " 'Installation_zone 19' 'Installation_zone 20' 'Installation_zone 21'\n",
            " 'Installation_zone 22' 'Installation_zone 23' 'Installation_zone 24'\n",
            " 'Installation_zone 25' 'Installation_zone 26' 'Installation_zone 27'\n",
            " 'Installation_zone 28' 'Installation_zone 29' 'Installation_zone 30'\n",
            " 'Installation_zone 31' 'Installation_zone 32' 'Installation_zone 33'\n",
            " 'Installation_zone 34' 'Installation_zone 35' 'Installation_zone 36'\n",
            " 'Installation_zone 37' 'Installation_zone 38' 'Installation_zone 39'\n",
            " 'Installation_zone 40' 'Installation_zone 41' 'Installation_zone 42'\n",
            " 'Installation_zone 43' 'Installation_zone 44' 'Installation_zone 45'\n",
            " 'Installation_zone 46' 'Installation_zone 47' 'Installation_zone 48'\n",
            " 'Installation_zone 49']\n"
          ]
        }
      ]
    },
    {
      "cell_type": "code",
      "source": [
        "from sklearn.preprocessing import LabelEncoder\n",
        "# Převedení kategoriálních proměnných\n",
        "label_encoder = LabelEncoder()\n",
        "dataset['Consumer_type'] = label_encoder.fit_transform(dataset['Consumer_type'])\n",
        "dataset['Installation_zone'] = label_encoder.fit_transform(dataset['Installation_zone'])"
      ],
      "metadata": {
        "id": "NH8nrIHzMZ1O"
      },
      "execution_count": 71,
      "outputs": []
    },
    {
      "cell_type": "code",
      "source": [
        "from sklearn.model_selection import train_test_split\n",
        "from sklearn.preprocessing import StandardScaler\n",
        "\n",
        "# Rozdělení dat\n",
        "X = dataset[['Year', 'Month', 'Consumption', 'Installation_zone']]\n",
        "y = dataset['Consumer_type']\n",
        "X_train, X_test, y_train, y_test = train_test_split(X, y, test_size=0.2, random_state=42)\n",
        "\n",
        "# Normalizace spotřeby\n",
        "scaler = StandardScaler()\n",
        "X_train['Consumption'] = scaler.fit_transform(X_train[['Consumption']])\n",
        "X_test['Consumption'] = scaler.transform(X_test[['Consumption']])\n"
      ],
      "metadata": {
        "id": "hwiho8yqBX8G"
      },
      "execution_count": 72,
      "outputs": []
    },
    {
      "cell_type": "code",
      "source": [
        "!pip install xgboost\n",
        "from sklearn.tree import DecisionTreeClassifier\n",
        "from sklearn.svm import SVC\n",
        "from sklearn.neighbors import KNeighborsClassifier\n",
        "from sklearn.metrics import accuracy_score\n",
        "import xgboost as xgb\n",
        "import time\n",
        "\n",
        "# Rozhodovací strom\n",
        "start_time = time.time()\n",
        "tree_model = DecisionTreeClassifier(random_state=42)\n",
        "tree_model.fit(X_train, y_train)\n",
        "tree_predictions = tree_model.predict(X_test)\n",
        "tree_accuracy = accuracy_score(y_test, tree_predictions)\n",
        "end_time = time.time()\n",
        "tree_training_time = end_time - start_time\n",
        "print(\"Přesnost rozhodovacího stromu:\", tree_accuracy)\n",
        "print(\"Čas trénování rozhodovacího stromu:\", tree_training_time)\n",
        "\n",
        "# GBM s XGBoost\n",
        "start_time = time.time()\n",
        "gbm_model = xgb.XGBClassifier(random_state=42)\n",
        "gbm_model.fit(X_train, y_train)\n",
        "gbm_predictions = gbm_model.predict(X_test)\n",
        "gbm_accuracy = accuracy_score(y_test, gbm_predictions)\n",
        "end_time = time.time()\n",
        "gbm_training_time = end_time - start_time\n",
        "print(\"Přesnost GBM:\", gbm_accuracy)\n",
        "print(\"Čas trénování GBM:\", gbm_training_time)\n",
        "\n",
        "# Support Vector Machine\n",
        "start_time = time.time()\n",
        "svm_model = SVC(random_state=42)\n",
        "svm_model.fit(X_train, y_train)\n",
        "svm_predictions = svm_model.predict(X_test)\n",
        "svm_accuracy = accuracy_score(y_test, svm_predictions)\n",
        "end_time = time.time()\n",
        "svm_training_time = end_time - start_time\n",
        "print(\"Přesnost SVM:\", svm_accuracy)\n",
        "print(\"Čas trénování SVM:\", svm_training_time)\n",
        "\n",
        "# K-Nearest Neighbors\n",
        "start_time = time.time()\n",
        "knn_model = KNeighborsClassifier(n_neighbors=5)\n",
        "knn_model.fit(X_train, y_train)\n",
        "knn_predictions = knn_model.predict(X_test)\n",
        "knn_accuracy = accuracy_score(y_test, knn_predictions)\n",
        "end_time = time.time()\n",
        "knn_training_time = end_time - start_time\n",
        "print(\"Přesnost KNN:\", knn_accuracy)\n",
        "print(\"Čas trénování KNN:\", knn_training_time)"
      ],
      "metadata": {
        "colab": {
          "base_uri": "https://localhost:8080/"
        },
        "id": "JpmR6XE7CKhL",
        "outputId": "bc35d51c-3f39-44fe-d43f-bb25e12bed8f"
      },
      "execution_count": 73,
      "outputs": [
        {
          "output_type": "stream",
          "name": "stdout",
          "text": [
            "Přesnost rozhodovacího stromu: 0.905901962269869\n",
            "Čas trénování rozhodovacího stromu: 0.4271574020385742\n",
            "Přesnost GBM: 0.9114175316311842\n",
            "Čas trénování GBM: 10.060801267623901\n",
            "Přesnost SVM: 0.7140540950071975\n",
            "Čas trénování SVM: 2176.275434732437\n",
            "Přesnost KNN: 0.9067050534131373\n",
            "Čas trénování KNN: 4.299309253692627\n"
          ]
        }
      ]
    },
    {
      "cell_type": "code",
      "source": [
        "import matplotlib.pyplot as plt\n",
        "\n",
        "# Výsledky přesnosti\n",
        "accuracy_scores = {\n",
        "    'Decision Tree': tree_accuracy,\n",
        "    'GBM': gbm_accuracy,\n",
        "    'SVM' : svm_accuracy,\n",
        "    'KNN' : knn_accuracy\n",
        "}\n",
        "\n",
        "# Vytvoření grafu\n",
        "plt.bar(accuracy_scores.keys(), accuracy_scores.values())\n",
        "plt.xlabel('Model')\n",
        "plt.ylabel('Přesnost')\n",
        "plt.title('Porovnání přesnosti různých modelů')\n",
        "plt.show()"
      ],
      "metadata": {
        "colab": {
          "base_uri": "https://localhost:8080/",
          "height": 473
        },
        "id": "lE1RjP-DZ5qt",
        "outputId": "194b2926-6861-4dba-ecf0-a57d5ca46b8e"
      },
      "execution_count": 74,
      "outputs": [
        {
          "output_type": "display_data",
          "data": {
            "text/plain": [
              "<Figure size 640x480 with 1 Axes>"
            ],
            "image/png": "[encoded data removed]"
          },
          "metadata": {}
        }
      ]
    },
    {
      "cell_type": "code",
      "source": [
        "model_names = ['Decision Tree', 'GBM', 'SVM', 'KNN']\n",
        "accuracies = [tree_accuracy, gbm_accuracy, svm_accuracy, knn_accuracy]\n",
        "training_times = [tree_training_time, gbm_training_time, svm_training_time, knn_training_time]\n",
        "\n",
        "fig, ax1 = plt.subplots()\n",
        "\n",
        "# Sloupcový graf pro přesnost\n",
        "ax1.bar(model_names, accuracies, color='b', alpha=0.6)\n",
        "ax1.set_xlabel('Model')\n",
        "ax1.set_ylabel('Přesnost', color='b')\n",
        "\n",
        "# Čárový graf pro čas trénování\n",
        "ax2 = ax1.twinx()\n",
        "ax2.plot(model_names, training_times, color='r', marker='o')\n",
        "ax2.set_ylabel('Čas trénování (s)', color='r')\n",
        "\n",
        "plt.title('Porovnání přesnosti a času trénování modelů')\n",
        "plt.show()"
      ],
      "metadata": {
        "colab": {
          "base_uri": "https://localhost:8080/",
          "height": 473
        },
        "id": "AT3BrEK9iWP-",
        "outputId": "c2fb49ee-2c42-411b-964d-e18d9c0af40d"
      },
      "execution_count": 75,
      "outputs": [
        {
          "output_type": "display_data",
          "data": {
            "text/plain": [
              "<Figure size 640x480 with 2 Axes>"
            ],
            "image/png": "[encoded data removed]"
          },
          "metadata": {}
        }
      ]
    }
  ]
}